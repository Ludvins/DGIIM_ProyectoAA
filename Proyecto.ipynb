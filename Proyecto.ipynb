{
 "cells": [
  {
   "cell_type": "markdown",
   "metadata": {},
   "source": [
    "# Imports"
   ]
  },
  {
   "cell_type": "code",
   "execution_count": 1,
   "metadata": {},
   "outputs": [],
   "source": [
    "from sklearn.svm import SVC\n",
    "from sklearn.model_selection import train_test_split\n",
    "from sklearn.metrics import f1_score, classification_report, matthews_corrcoef\n",
    "from sklearn import preprocessing\n",
    "from sklearn.utils import resample\n",
    "from imblearn.ensemble import BalancedBaggingClassifier, BalancedRandomForestClassifier\n",
    "\n",
    "from aux import *\n",
    "\n",
    "import pandas as pd\n",
    "pd.options.display.max_columns = 100\n",
    "\n",
    "seed = 1997"
   ]
  },
  {
   "cell_type": "markdown",
   "metadata": {},
   "source": [
    "# Lectura de datos"
   ]
  },
  {
   "cell_type": "code",
   "execution_count": 2,
   "metadata": {},
   "outputs": [],
   "source": [
    "# Leemos la base de datos\n",
    "col_names = ['Elevation', 'Aspect', 'Slope', 'Horizontal_Distance_To_Hydrology', 'Vertical_Distance_To_Hydrology', 'Horizontal_Distance_To_Roadways', 'Hillshade_9am', 'Hillshade_Noon', 'Hillshade_3pm', 'Horizontal_Distance_To_Fire_Points']\n",
    "for i in range(1,5):\n",
    "    col_names.append('Wilderness_Area_' + str(i))\n",
    "for i in range(1,41):\n",
    "    col_names.append('Soil_Type_' + str(i))\n",
    "col_names.append('Cover_Type')\n",
    "\n",
    "dataset = pd.read_csv('covtype.data', header=None, names=col_names)"
   ]
  },
  {
   "cell_type": "code",
   "execution_count": 3,
   "metadata": {},
   "outputs": [
    {
     "data": {
      "text/html": [
       "<div>\n",
       "<style scoped>\n",
       "    .dataframe tbody tr th:only-of-type {\n",
       "        vertical-align: middle;\n",
       "    }\n",
       "\n",
       "    .dataframe tbody tr th {\n",
       "        vertical-align: top;\n",
       "    }\n",
       "\n",
       "    .dataframe thead th {\n",
       "        text-align: right;\n",
       "    }\n",
       "</style>\n",
       "<table border=\"1\" class=\"dataframe\">\n",
       "  <thead>\n",
       "    <tr style=\"text-align: right;\">\n",
       "      <th></th>\n",
       "      <th>Elevation</th>\n",
       "      <th>Aspect</th>\n",
       "      <th>Slope</th>\n",
       "      <th>Horizontal_Distance_To_Hydrology</th>\n",
       "      <th>Vertical_Distance_To_Hydrology</th>\n",
       "      <th>Horizontal_Distance_To_Roadways</th>\n",
       "      <th>Hillshade_9am</th>\n",
       "      <th>Hillshade_Noon</th>\n",
       "      <th>Hillshade_3pm</th>\n",
       "      <th>Horizontal_Distance_To_Fire_Points</th>\n",
       "      <th>Wilderness_Area_1</th>\n",
       "      <th>Wilderness_Area_2</th>\n",
       "      <th>Wilderness_Area_3</th>\n",
       "      <th>Wilderness_Area_4</th>\n",
       "      <th>Soil_Type_1</th>\n",
       "      <th>Soil_Type_2</th>\n",
       "      <th>Soil_Type_3</th>\n",
       "      <th>Soil_Type_4</th>\n",
       "      <th>Soil_Type_5</th>\n",
       "      <th>Soil_Type_6</th>\n",
       "      <th>Soil_Type_7</th>\n",
       "      <th>Soil_Type_8</th>\n",
       "      <th>Soil_Type_9</th>\n",
       "      <th>Soil_Type_10</th>\n",
       "      <th>Soil_Type_11</th>\n",
       "      <th>Soil_Type_12</th>\n",
       "      <th>Soil_Type_13</th>\n",
       "      <th>Soil_Type_14</th>\n",
       "      <th>Soil_Type_15</th>\n",
       "      <th>Soil_Type_16</th>\n",
       "      <th>Soil_Type_17</th>\n",
       "      <th>Soil_Type_18</th>\n",
       "      <th>Soil_Type_19</th>\n",
       "      <th>Soil_Type_20</th>\n",
       "      <th>Soil_Type_21</th>\n",
       "      <th>Soil_Type_22</th>\n",
       "      <th>Soil_Type_23</th>\n",
       "      <th>Soil_Type_24</th>\n",
       "      <th>Soil_Type_25</th>\n",
       "      <th>Soil_Type_26</th>\n",
       "      <th>Soil_Type_27</th>\n",
       "      <th>Soil_Type_28</th>\n",
       "      <th>Soil_Type_29</th>\n",
       "      <th>Soil_Type_30</th>\n",
       "      <th>Soil_Type_31</th>\n",
       "      <th>Soil_Type_32</th>\n",
       "      <th>Soil_Type_33</th>\n",
       "      <th>Soil_Type_34</th>\n",
       "      <th>Soil_Type_35</th>\n",
       "      <th>Soil_Type_36</th>\n",
       "      <th>Soil_Type_37</th>\n",
       "      <th>Soil_Type_38</th>\n",
       "      <th>Soil_Type_39</th>\n",
       "      <th>Soil_Type_40</th>\n",
       "      <th>Cover_Type</th>\n",
       "    </tr>\n",
       "  </thead>\n",
       "  <tbody>\n",
       "    <tr>\n",
       "      <th>0</th>\n",
       "      <td>2596</td>\n",
       "      <td>51</td>\n",
       "      <td>3</td>\n",
       "      <td>258</td>\n",
       "      <td>0</td>\n",
       "      <td>510</td>\n",
       "      <td>221</td>\n",
       "      <td>232</td>\n",
       "      <td>148</td>\n",
       "      <td>6279</td>\n",
       "      <td>1</td>\n",
       "      <td>0</td>\n",
       "      <td>0</td>\n",
       "      <td>0</td>\n",
       "      <td>0</td>\n",
       "      <td>0</td>\n",
       "      <td>0</td>\n",
       "      <td>0</td>\n",
       "      <td>0</td>\n",
       "      <td>0</td>\n",
       "      <td>0</td>\n",
       "      <td>0</td>\n",
       "      <td>0</td>\n",
       "      <td>0</td>\n",
       "      <td>0</td>\n",
       "      <td>0</td>\n",
       "      <td>0</td>\n",
       "      <td>0</td>\n",
       "      <td>0</td>\n",
       "      <td>0</td>\n",
       "      <td>0</td>\n",
       "      <td>0</td>\n",
       "      <td>0</td>\n",
       "      <td>0</td>\n",
       "      <td>0</td>\n",
       "      <td>0</td>\n",
       "      <td>0</td>\n",
       "      <td>0</td>\n",
       "      <td>0</td>\n",
       "      <td>0</td>\n",
       "      <td>0</td>\n",
       "      <td>0</td>\n",
       "      <td>1</td>\n",
       "      <td>0</td>\n",
       "      <td>0</td>\n",
       "      <td>0</td>\n",
       "      <td>0</td>\n",
       "      <td>0</td>\n",
       "      <td>0</td>\n",
       "      <td>0</td>\n",
       "      <td>0</td>\n",
       "      <td>0</td>\n",
       "      <td>0</td>\n",
       "      <td>0</td>\n",
       "      <td>5</td>\n",
       "    </tr>\n",
       "    <tr>\n",
       "      <th>1</th>\n",
       "      <td>2590</td>\n",
       "      <td>56</td>\n",
       "      <td>2</td>\n",
       "      <td>212</td>\n",
       "      <td>-6</td>\n",
       "      <td>390</td>\n",
       "      <td>220</td>\n",
       "      <td>235</td>\n",
       "      <td>151</td>\n",
       "      <td>6225</td>\n",
       "      <td>1</td>\n",
       "      <td>0</td>\n",
       "      <td>0</td>\n",
       "      <td>0</td>\n",
       "      <td>0</td>\n",
       "      <td>0</td>\n",
       "      <td>0</td>\n",
       "      <td>0</td>\n",
       "      <td>0</td>\n",
       "      <td>0</td>\n",
       "      <td>0</td>\n",
       "      <td>0</td>\n",
       "      <td>0</td>\n",
       "      <td>0</td>\n",
       "      <td>0</td>\n",
       "      <td>0</td>\n",
       "      <td>0</td>\n",
       "      <td>0</td>\n",
       "      <td>0</td>\n",
       "      <td>0</td>\n",
       "      <td>0</td>\n",
       "      <td>0</td>\n",
       "      <td>0</td>\n",
       "      <td>0</td>\n",
       "      <td>0</td>\n",
       "      <td>0</td>\n",
       "      <td>0</td>\n",
       "      <td>0</td>\n",
       "      <td>0</td>\n",
       "      <td>0</td>\n",
       "      <td>0</td>\n",
       "      <td>0</td>\n",
       "      <td>1</td>\n",
       "      <td>0</td>\n",
       "      <td>0</td>\n",
       "      <td>0</td>\n",
       "      <td>0</td>\n",
       "      <td>0</td>\n",
       "      <td>0</td>\n",
       "      <td>0</td>\n",
       "      <td>0</td>\n",
       "      <td>0</td>\n",
       "      <td>0</td>\n",
       "      <td>0</td>\n",
       "      <td>5</td>\n",
       "    </tr>\n",
       "    <tr>\n",
       "      <th>2</th>\n",
       "      <td>2804</td>\n",
       "      <td>139</td>\n",
       "      <td>9</td>\n",
       "      <td>268</td>\n",
       "      <td>65</td>\n",
       "      <td>3180</td>\n",
       "      <td>234</td>\n",
       "      <td>238</td>\n",
       "      <td>135</td>\n",
       "      <td>6121</td>\n",
       "      <td>1</td>\n",
       "      <td>0</td>\n",
       "      <td>0</td>\n",
       "      <td>0</td>\n",
       "      <td>0</td>\n",
       "      <td>0</td>\n",
       "      <td>0</td>\n",
       "      <td>0</td>\n",
       "      <td>0</td>\n",
       "      <td>0</td>\n",
       "      <td>0</td>\n",
       "      <td>0</td>\n",
       "      <td>0</td>\n",
       "      <td>0</td>\n",
       "      <td>0</td>\n",
       "      <td>1</td>\n",
       "      <td>0</td>\n",
       "      <td>0</td>\n",
       "      <td>0</td>\n",
       "      <td>0</td>\n",
       "      <td>0</td>\n",
       "      <td>0</td>\n",
       "      <td>0</td>\n",
       "      <td>0</td>\n",
       "      <td>0</td>\n",
       "      <td>0</td>\n",
       "      <td>0</td>\n",
       "      <td>0</td>\n",
       "      <td>0</td>\n",
       "      <td>0</td>\n",
       "      <td>0</td>\n",
       "      <td>0</td>\n",
       "      <td>0</td>\n",
       "      <td>0</td>\n",
       "      <td>0</td>\n",
       "      <td>0</td>\n",
       "      <td>0</td>\n",
       "      <td>0</td>\n",
       "      <td>0</td>\n",
       "      <td>0</td>\n",
       "      <td>0</td>\n",
       "      <td>0</td>\n",
       "      <td>0</td>\n",
       "      <td>0</td>\n",
       "      <td>2</td>\n",
       "    </tr>\n",
       "    <tr>\n",
       "      <th>3</th>\n",
       "      <td>2785</td>\n",
       "      <td>155</td>\n",
       "      <td>18</td>\n",
       "      <td>242</td>\n",
       "      <td>118</td>\n",
       "      <td>3090</td>\n",
       "      <td>238</td>\n",
       "      <td>238</td>\n",
       "      <td>122</td>\n",
       "      <td>6211</td>\n",
       "      <td>1</td>\n",
       "      <td>0</td>\n",
       "      <td>0</td>\n",
       "      <td>0</td>\n",
       "      <td>0</td>\n",
       "      <td>0</td>\n",
       "      <td>0</td>\n",
       "      <td>0</td>\n",
       "      <td>0</td>\n",
       "      <td>0</td>\n",
       "      <td>0</td>\n",
       "      <td>0</td>\n",
       "      <td>0</td>\n",
       "      <td>0</td>\n",
       "      <td>0</td>\n",
       "      <td>0</td>\n",
       "      <td>0</td>\n",
       "      <td>0</td>\n",
       "      <td>0</td>\n",
       "      <td>0</td>\n",
       "      <td>0</td>\n",
       "      <td>0</td>\n",
       "      <td>0</td>\n",
       "      <td>0</td>\n",
       "      <td>0</td>\n",
       "      <td>0</td>\n",
       "      <td>0</td>\n",
       "      <td>0</td>\n",
       "      <td>0</td>\n",
       "      <td>0</td>\n",
       "      <td>0</td>\n",
       "      <td>0</td>\n",
       "      <td>0</td>\n",
       "      <td>1</td>\n",
       "      <td>0</td>\n",
       "      <td>0</td>\n",
       "      <td>0</td>\n",
       "      <td>0</td>\n",
       "      <td>0</td>\n",
       "      <td>0</td>\n",
       "      <td>0</td>\n",
       "      <td>0</td>\n",
       "      <td>0</td>\n",
       "      <td>0</td>\n",
       "      <td>2</td>\n",
       "    </tr>\n",
       "    <tr>\n",
       "      <th>4</th>\n",
       "      <td>2595</td>\n",
       "      <td>45</td>\n",
       "      <td>2</td>\n",
       "      <td>153</td>\n",
       "      <td>-1</td>\n",
       "      <td>391</td>\n",
       "      <td>220</td>\n",
       "      <td>234</td>\n",
       "      <td>150</td>\n",
       "      <td>6172</td>\n",
       "      <td>1</td>\n",
       "      <td>0</td>\n",
       "      <td>0</td>\n",
       "      <td>0</td>\n",
       "      <td>0</td>\n",
       "      <td>0</td>\n",
       "      <td>0</td>\n",
       "      <td>0</td>\n",
       "      <td>0</td>\n",
       "      <td>0</td>\n",
       "      <td>0</td>\n",
       "      <td>0</td>\n",
       "      <td>0</td>\n",
       "      <td>0</td>\n",
       "      <td>0</td>\n",
       "      <td>0</td>\n",
       "      <td>0</td>\n",
       "      <td>0</td>\n",
       "      <td>0</td>\n",
       "      <td>0</td>\n",
       "      <td>0</td>\n",
       "      <td>0</td>\n",
       "      <td>0</td>\n",
       "      <td>0</td>\n",
       "      <td>0</td>\n",
       "      <td>0</td>\n",
       "      <td>0</td>\n",
       "      <td>0</td>\n",
       "      <td>0</td>\n",
       "      <td>0</td>\n",
       "      <td>0</td>\n",
       "      <td>0</td>\n",
       "      <td>1</td>\n",
       "      <td>0</td>\n",
       "      <td>0</td>\n",
       "      <td>0</td>\n",
       "      <td>0</td>\n",
       "      <td>0</td>\n",
       "      <td>0</td>\n",
       "      <td>0</td>\n",
       "      <td>0</td>\n",
       "      <td>0</td>\n",
       "      <td>0</td>\n",
       "      <td>0</td>\n",
       "      <td>5</td>\n",
       "    </tr>\n",
       "  </tbody>\n",
       "</table>\n",
       "</div>"
      ],
      "text/plain": [
       "   Elevation  Aspect  Slope  Horizontal_Distance_To_Hydrology  \\\n",
       "0       2596      51      3                               258   \n",
       "1       2590      56      2                               212   \n",
       "2       2804     139      9                               268   \n",
       "3       2785     155     18                               242   \n",
       "4       2595      45      2                               153   \n",
       "\n",
       "   Vertical_Distance_To_Hydrology  Horizontal_Distance_To_Roadways  \\\n",
       "0                               0                              510   \n",
       "1                              -6                              390   \n",
       "2                              65                             3180   \n",
       "3                             118                             3090   \n",
       "4                              -1                              391   \n",
       "\n",
       "   Hillshade_9am  Hillshade_Noon  Hillshade_3pm  \\\n",
       "0            221             232            148   \n",
       "1            220             235            151   \n",
       "2            234             238            135   \n",
       "3            238             238            122   \n",
       "4            220             234            150   \n",
       "\n",
       "   Horizontal_Distance_To_Fire_Points  Wilderness_Area_1  Wilderness_Area_2  \\\n",
       "0                                6279                  1                  0   \n",
       "1                                6225                  1                  0   \n",
       "2                                6121                  1                  0   \n",
       "3                                6211                  1                  0   \n",
       "4                                6172                  1                  0   \n",
       "\n",
       "   Wilderness_Area_3  Wilderness_Area_4  Soil_Type_1  Soil_Type_2  \\\n",
       "0                  0                  0            0            0   \n",
       "1                  0                  0            0            0   \n",
       "2                  0                  0            0            0   \n",
       "3                  0                  0            0            0   \n",
       "4                  0                  0            0            0   \n",
       "\n",
       "   Soil_Type_3  Soil_Type_4  Soil_Type_5  Soil_Type_6  Soil_Type_7  \\\n",
       "0            0            0            0            0            0   \n",
       "1            0            0            0            0            0   \n",
       "2            0            0            0            0            0   \n",
       "3            0            0            0            0            0   \n",
       "4            0            0            0            0            0   \n",
       "\n",
       "   Soil_Type_8  Soil_Type_9  Soil_Type_10  Soil_Type_11  Soil_Type_12  \\\n",
       "0            0            0             0             0             0   \n",
       "1            0            0             0             0             0   \n",
       "2            0            0             0             0             1   \n",
       "3            0            0             0             0             0   \n",
       "4            0            0             0             0             0   \n",
       "\n",
       "   Soil_Type_13  Soil_Type_14  Soil_Type_15  Soil_Type_16  Soil_Type_17  \\\n",
       "0             0             0             0             0             0   \n",
       "1             0             0             0             0             0   \n",
       "2             0             0             0             0             0   \n",
       "3             0             0             0             0             0   \n",
       "4             0             0             0             0             0   \n",
       "\n",
       "   Soil_Type_18  Soil_Type_19  Soil_Type_20  Soil_Type_21  Soil_Type_22  \\\n",
       "0             0             0             0             0             0   \n",
       "1             0             0             0             0             0   \n",
       "2             0             0             0             0             0   \n",
       "3             0             0             0             0             0   \n",
       "4             0             0             0             0             0   \n",
       "\n",
       "   Soil_Type_23  Soil_Type_24  Soil_Type_25  Soil_Type_26  Soil_Type_27  \\\n",
       "0             0             0             0             0             0   \n",
       "1             0             0             0             0             0   \n",
       "2             0             0             0             0             0   \n",
       "3             0             0             0             0             0   \n",
       "4             0             0             0             0             0   \n",
       "\n",
       "   Soil_Type_28  Soil_Type_29  Soil_Type_30  Soil_Type_31  Soil_Type_32  \\\n",
       "0             0             1             0             0             0   \n",
       "1             0             1             0             0             0   \n",
       "2             0             0             0             0             0   \n",
       "3             0             0             1             0             0   \n",
       "4             0             1             0             0             0   \n",
       "\n",
       "   Soil_Type_33  Soil_Type_34  Soil_Type_35  Soil_Type_36  Soil_Type_37  \\\n",
       "0             0             0             0             0             0   \n",
       "1             0             0             0             0             0   \n",
       "2             0             0             0             0             0   \n",
       "3             0             0             0             0             0   \n",
       "4             0             0             0             0             0   \n",
       "\n",
       "   Soil_Type_38  Soil_Type_39  Soil_Type_40  Cover_Type  \n",
       "0             0             0             0           5  \n",
       "1             0             0             0           5  \n",
       "2             0             0             0           2  \n",
       "3             0             0             0           2  \n",
       "4             0             0             0           5  "
      ]
     },
     "execution_count": 3,
     "metadata": {},
     "output_type": "execute_result"
    }
   ],
   "source": [
    "dataset.head()"
   ]
  },
  {
   "cell_type": "code",
   "execution_count": 4,
   "metadata": {},
   "outputs": [
    {
     "data": {
      "text/plain": [
       "2    283301\n",
       "1    211840\n",
       "3     35754\n",
       "7     20510\n",
       "6     17367\n",
       "5      9493\n",
       "4      2747\n",
       "Name: Cover_Type, dtype: int64"
      ]
     },
     "execution_count": 4,
     "metadata": {},
     "output_type": "execute_result"
    }
   ],
   "source": [
    "X = dataset.drop('Cover_Type', axis=1)\n",
    "y = dataset['Cover_Type']\n",
    "y.value_counts()"
   ]
  },
  {
   "cell_type": "markdown",
   "metadata": {},
   "source": [
    "# Train, test, val split"
   ]
  },
  {
   "cell_type": "code",
   "execution_count": 5,
   "metadata": {},
   "outputs": [
    {
     "data": {
      "image/png": "[encoded data removed]",
      "text/plain": [
       "<Figure size 432x288 with 1 Axes>"
      ]
     },
     "metadata": {},
     "output_type": "display_data"
    }
   ],
   "source": [
    "# Distribucion de las clases \n",
    "prop_class = y.value_counts(normalize=True)\n",
    "pieLabels = ['2','1','3','7','6','5','4']\n",
    "figureObject, axesObject = plt.subplots()\n",
    "axesObject.pie(prop_class*100, labels=pieLabels, autopct='%1.2f', startangle=180)\n",
    "axesObject.axis('equal')\n",
    "plt.title(\"Distribución de las clases del problema (%)\")\n",
    "plt.show()"
   ]
  },
  {
   "cell_type": "markdown",
   "metadata": {},
   "source": [
    "Separamos en train, vail y test."
   ]
  },
  {
   "cell_type": "markdown",
   "metadata": {},
   "source": [
    "Número de elementos de cada clase en `train`."
   ]
  },
  {
   "cell_type": "markdown",
   "metadata": {},
   "source": [
    "Undersampling"
   ]
  },
  {
   "cell_type": "code",
   "execution_count": 6,
   "metadata": {},
   "outputs": [
    {
     "name": "stdout",
     "output_type": "stream",
     "text": [
      "(565317, 54)\n"
     ]
    }
   ],
   "source": [
    "sizes = [6000, 6000, 1539, 118, 408, 748, 882]\n",
    "X_train = []\n",
    "y_train = []\n",
    "X_rest = []\n",
    "y_rest = []\n",
    "for i in range(1,8):\n",
    "    elems = X[y == i]\n",
    "    X_train.append(elems.iloc[:sizes[i-1]])\n",
    "    y_train.append(y[y==i].iloc[:sizes[i-1]])\n",
    "    X_rest.append(elems.iloc[sizes[i-1]:])\n",
    "    y_rest.append(y[y==i].iloc[sizes[i-1]:])\n",
    "    \n",
    "X_train = pd.concat(X_train)\n",
    "y_train = pd.concat(y_train)\n",
    "X_rest = pd.concat(X_rest)\n",
    "y_rest = pd.concat(y_rest)\n",
    "print(X_rest.shape)\n",
    "X_val, X_test, y_val, y_test = train_test_split(X_rest, y_rest, train_size=15000, stratify=y_rest, random_state=seed)"
   ]
  },
  {
   "cell_type": "code",
   "execution_count": 7,
   "metadata": {},
   "outputs": [
    {
     "name": "stdout",
     "output_type": "stream",
     "text": [
      "Tamaño del conjunto de entrenamiento:  15695\n",
      "Tamaño del conjunto de validacion:  15000\n",
      "Tamaño del conjunto de test:  550317\n"
     ]
    }
   ],
   "source": [
    "print(\"Tamaño del conjunto de entrenamiento: \", X_train.shape[0])\n",
    "print(\"Tamaño del conjunto de validacion: \", X_val.shape[0])\n",
    "print(\"Tamaño del conjunto de test: \", X_test.shape[0])"
   ]
  },
  {
   "cell_type": "code",
   "execution_count": 8,
   "metadata": {},
   "outputs": [
    {
     "data": {
      "image/png": "[encoded data removed]",
      "text/plain": [
       "<Figure size 432x288 with 1 Axes>"
      ]
     },
     "metadata": {
      "needs_background": "light"
     },
     "output_type": "display_data"
    }
   ],
   "source": [
    "y_train.value_counts().plot(kind='bar', title='Distribución final de las clases en el conjunto de entrenamiento');"
   ]
  },
  {
   "cell_type": "code",
   "execution_count": 9,
   "metadata": {},
   "outputs": [
    {
     "data": {
      "image/png": "[encoded data removed]",
      "text/plain": [
       "<Figure size 432x288 with 1 Axes>"
      ]
     },
     "metadata": {
      "needs_background": "light"
     },
     "output_type": "display_data"
    }
   ],
   "source": [
    "y_test.value_counts().plot(kind='bar', title='Distribución final de las clases en el conjunto de test');"
   ]
  },
  {
   "cell_type": "code",
   "execution_count": 10,
   "metadata": {},
   "outputs": [
    {
     "data": {
      "image/png": "[encoded data removed]",
      "text/plain": [
       "<Figure size 432x288 with 1 Axes>"
      ]
     },
     "metadata": {},
     "output_type": "display_data"
    }
   ],
   "source": [
    "prop_class = y_train.value_counts(normalize=True)\n",
    "pieLabels = ['1','2','3','7','6','5','4']\n",
    "figureObject, axesObject = plt.subplots()\n",
    "axesObject.pie(prop_class*100, labels=pieLabels, autopct='%1.2f', startangle=180)\n",
    "axesObject.axis('equal')\n",
    "plt.title(\"Distribución de las clases del problema (%)\")\n",
    "plt.show()"
   ]
  },
  {
   "cell_type": "markdown",
   "metadata": {},
   "source": [
    "# Preprocesado"
   ]
  },
  {
   "cell_type": "markdown",
   "metadata": {},
   "source": [
    "Definimos un `Pipeline` de preprocesado."
   ]
  },
  {
   "cell_type": "code",
   "execution_count": 11,
   "metadata": {},
   "outputs": [],
   "source": [
    "data_preprocess = Pipeline(\n",
    "    [\n",
    "        (\"VT\", VarianceThreshold()),\n",
    "        (\"Scaler\", StandardScaler()),\n",
    "        #(\"PCA\", PCA(0.95)),\n",
    "        #(\"Scaler2\", StandardScaler()),\n",
    "    ]\n",
    ")"
   ]
  },
  {
   "cell_type": "markdown",
   "metadata": {},
   "source": [
    "Preprocesamos el conjunto de entrenamiento y mostramos la matriz de correlación antes y después."
   ]
  },
  {
   "cell_type": "code",
   "execution_count": 12,
   "metadata": {},
   "outputs": [
    {
     "name": "stdout",
     "output_type": "stream",
     "text": [
      "(15695, 54)\n",
      "(15695, 52)\n"
     ]
    }
   ],
   "source": [
    "X_train_new = data_preprocess.fit_transform(X_train, y_train)\n",
    "print(X_train.shape)\n",
    "print(X_train_new.shape)\n",
    "# se elimina el atributo Soil_Type_15 que tiene varianza 0"
   ]
  },
  {
   "cell_type": "code",
   "execution_count": 13,
   "metadata": {},
   "outputs": [
    {
     "name": "stdout",
     "output_type": "stream",
     "text": [
      "Matriz de correlación pre y post procesado (dígitos)\n"
     ]
    },
    {
     "name": "stderr",
     "output_type": "stream",
     "text": [
      "/usr/lib/python3.8/site-packages/numpy/lib/function_base.py:2534: RuntimeWarning: invalid value encountered in true_divide\n",
      "  c /= stddev[:, None]\n",
      "/usr/lib/python3.8/site-packages/numpy/lib/function_base.py:2535: RuntimeWarning: invalid value encountered in true_divide\n",
      "  c /= stddev[None, :]\n"
     ]
    },
    {
     "data": {
      "image/png": "[encoded data removed]",
      "text/plain": [
       "<Figure size 864x417.6 with 3 Axes>"
      ]
     },
     "metadata": {
      "needs_background": "light"
     },
     "output_type": "display_data"
    }
   ],
   "source": [
    "show_preprocess_correlation_matrix(X_train, X_train_new)"
   ]
  },
  {
   "cell_type": "markdown",
   "metadata": {},
   "source": [
    "Preprocesamos validación y `test`."
   ]
  },
  {
   "cell_type": "code",
   "execution_count": 14,
   "metadata": {},
   "outputs": [],
   "source": [
    "X_train = X_train_new\n",
    "X_val = data_preprocess.transform(X_val)\n",
    "X_test = data_preprocess.transform(X_test)"
   ]
  },
  {
   "cell_type": "markdown",
   "metadata": {},
   "source": [
    "# Modelos a considerar"
   ]
  },
  {
   "cell_type": "markdown",
   "metadata": {},
   "source": [
    "Definimos un array con los modelos que vamos a considerar, se entrenarán y evaluarán en validación."
   ]
  },
  {
   "cell_type": "code",
   "execution_count": 15,
   "metadata": {},
   "outputs": [],
   "source": [
    "scorer = make_scorer(f1_score, average = \"weighted\")\n",
    "#scorer = make_scorer(f1_score, average = \"micro\")"
   ]
  },
  {
   "cell_type": "code",
   "execution_count": 16,
   "metadata": {},
   "outputs": [],
   "source": [
    "reg_values_lin = [0.001, 0.01, 0.1, 0.5, 1, 2, 5, 10, 100, 1000]\n",
    "reg_values_svm = [250, 500, 1000, 1250]"
   ]
  },
  {
   "cell_type": "code",
   "execution_count": 17,
   "metadata": {},
   "outputs": [],
   "source": [
    "linear_models = []\n",
    "linear_models += [\n",
    "    (\n",
    "        \"Perceptron: \\u03B1={}\".format(a),\n",
    "        Perceptron(alpha=a, penalty=\"l2\", class_weight='balanced', random_state=seed, n_jobs=-1),\n",
    "    )\n",
    "    for a in reg_values_lin\n",
    "]\n",
    "linear_models += [\n",
    "    (\n",
    "        \"RidgeClassifier: \\u03B1={}\".format(a),\n",
    "        RidgeClassifier(alpha=a, random_state=seed, class_weight='balanced', max_iter=1000),\n",
    "    )\n",
    "    for a in reg_values_lin\n",
    "]\n",
    "linear_models += [\n",
    "    (\n",
    "        \"Logistic regresion: C={}\".format(c),\n",
    "        LogisticRegression(\n",
    "            C=c, multi_class=\"ovr\", penalty=\"l2\", solver='saga', class_weight='balanced', random_state=seed, n_jobs=-1\n",
    "        ),\n",
    "    )\n",
    "    for c in reg_values_lin\n",
    "]\n",
    "#linear_models += [\n",
    "#    (\n",
    "#        \"SGD Classifier: \\u03B1={}\".format(a),\n",
    "#        SGDClassifier(alpha=a, class_weight='balanced', random_state=seed, n_jobs=-1)\n",
    "#    )\n",
    "#    for a in reg_values_lin\n",
    "#]"
   ]
  },
  {
   "cell_type": "code",
   "execution_count": 18,
   "metadata": {},
   "outputs": [],
   "source": [
    "svm_models = []\n",
    "svm_models += [\n",
    "    (\n",
    "        \"SVM (3-poly): C={}\".format(c),\n",
    "        SVC(C = c, kernel='poly', degree=3)\n",
    "    )\n",
    "    for c in reg_values_svm\n",
    "]\n",
    "svm_models += [\n",
    "    (\n",
    "        \"SVM (5-poly): C={}\".format(c),\n",
    "        SVC(C = c, kernel='poly', degree=5)\n",
    "    )\n",
    "    for c in reg_values_svm\n",
    "]\n",
    "svm_models += [\n",
    "    (\n",
    "        \"SVM (rbf): C={}\".format(c),\n",
    "        SVC(C = c, kernel='rbf')\n",
    "    )\n",
    "    for c in reg_values_svm\n",
    "]"
   ]
  },
  {
   "cell_type": "code",
   "execution_count": 19,
   "metadata": {},
   "outputs": [],
   "source": [
    "rf_models = []\n",
    "rf_models += [\n",
    "    (\n",
    "        \"Random Forest: {} estimators, 1000 samples\".format(n),\n",
    "        RandomForestClassifier(n_estimators=n, max_samples=1000, class_weight=\"balanced\", \n",
    "                               n_jobs=-1, random_state=seed)\n",
    "    )\n",
    "    for n in [100,500]\n",
    "]\n",
    "rf_models += [\n",
    "    (\n",
    "        \"Random Forest: {} estimators\".format(n),\n",
    "        RandomForestClassifier(n_estimators=n, class_weight=\"balanced\", n_jobs=-1, \n",
    "                               random_state=seed)\n",
    "    )\n",
    "    for n in [100,200]\n",
    "]"
   ]
  },
  {
   "cell_type": "code",
   "execution_count": 20,
   "metadata": {},
   "outputs": [],
   "source": [
    "balanced_rf_models = [\n",
    "    (\n",
    "        \"Balanced Random Forest: {} estimators, 1000 samples\".format(n),\n",
    "        BalancedRandomForestClassifier(n_estimators=n, sampling_strategy='not minority', \n",
    "                                        class_weight='balanced', random_state=seed, n_jobs=-1)\n",
    "\n",
    "    )\n",
    "    for n in [100,200]\n",
    "]\n"
   ]
  },
  {
   "cell_type": "markdown",
   "metadata": {},
   "source": [
    "# Elección de modelo"
   ]
  },
  {
   "cell_type": "markdown",
   "metadata": {},
   "source": [
    "Hacemos `K-fold cross-validation` sobre cada uno de los conjuntos de modelos: lineal, knn y SVM. Y seleccionamos el mejor de cada uno."
   ]
  },
  {
   "cell_type": "code",
   "execution_count": 21,
   "metadata": {},
   "outputs": [
    {
     "name": "stdout",
     "output_type": "stream",
     "text": [
      "Los modelos que se van a considerar son: \n",
      "\t Perceptron: α=0.001\n",
      "\t Perceptron: α=0.01\n",
      "\t Perceptron: α=0.1\n",
      "\t Perceptron: α=0.5\n",
      "\t Perceptron: α=1\n",
      "\t Perceptron: α=2\n",
      "\t Perceptron: α=5\n",
      "\t Perceptron: α=10\n",
      "\t Perceptron: α=100\n",
      "\t Perceptron: α=1000\n",
      "\t RidgeClassifier: α=0.001\n",
      "\t RidgeClassifier: α=0.01\n",
      "\t RidgeClassifier: α=0.1\n",
      "\t RidgeClassifier: α=0.5\n",
      "\t RidgeClassifier: α=1\n",
      "\t RidgeClassifier: α=2\n",
      "\t RidgeClassifier: α=5\n",
      "\t RidgeClassifier: α=10\n",
      "\t RidgeClassifier: α=100\n",
      "\t RidgeClassifier: α=1000\n",
      "\t Logistic regresion: C=0.001\n",
      "\t Logistic regresion: C=0.01\n",
      "\t Logistic regresion: C=0.1\n",
      "\t Logistic regresion: C=0.5\n",
      "\t Logistic regresion: C=1\n",
      "\t Logistic regresion: C=2\n",
      "\t Logistic regresion: C=5\n",
      "\t Logistic regresion: C=10\n",
      "\t Logistic regresion: C=100\n",
      "\t Logistic regresion: C=1000\n",
      "\n",
      "\n",
      "--> Perceptron: α=0.001 <--\n",
      "Score en K-fold: 0.564\n",
      "\n",
      "\n",
      "--> Perceptron: α=0.01 <--\n",
      "Score en K-fold: 0.485\n",
      "\n",
      "\n",
      "--> Perceptron: α=0.1 <--\n",
      "Score en K-fold: 0.404\n",
      "\n",
      "\n",
      "--> Perceptron: α=0.5 <--\n",
      "Score en K-fold: 0.180\n",
      "\n",
      "\n",
      "--> Perceptron: α=1 <--\n",
      "Score en K-fold: 0.055\n",
      "\n",
      "\n",
      "--> Perceptron: α=2 <--\n",
      "Score en K-fold: 0.055\n",
      "\n",
      "\n",
      "--> Perceptron: α=5 <--\n",
      "Score en K-fold: 0.055\n",
      "\n",
      "\n",
      "--> Perceptron: α=10 <--\n",
      "Score en K-fold: 0.055\n",
      "\n",
      "\n",
      "--> Perceptron: α=100 <--\n",
      "Score en K-fold: 0.055\n",
      "\n",
      "\n",
      "--> Perceptron: α=1000 <--\n",
      "Score en K-fold: 0.055\n",
      "\n",
      "\n",
      "--> RidgeClassifier: α=0.001 <--\n",
      "Score en K-fold: 0.593\n",
      "\n",
      "\n",
      "--> RidgeClassifier: α=0.01 <--\n",
      "Score en K-fold: 0.593\n",
      "\n",
      "\n",
      "--> RidgeClassifier: α=0.1 <--\n",
      "Score en K-fold: 0.593\n",
      "\n",
      "\n",
      "--> RidgeClassifier: α=0.5 <--\n",
      "Score en K-fold: 0.593\n",
      "\n",
      "\n",
      "--> RidgeClassifier: α=1 <--\n",
      "Score en K-fold: 0.593\n",
      "\n",
      "\n",
      "--> RidgeClassifier: α=2 <--\n",
      "Score en K-fold: 0.593\n",
      "\n",
      "\n",
      "--> RidgeClassifier: α=5 <--\n",
      "Score en K-fold: 0.593\n",
      "\n",
      "\n",
      "--> RidgeClassifier: α=10 <--\n",
      "Score en K-fold: 0.593\n",
      "\n",
      "\n",
      "--> RidgeClassifier: α=100 <--\n",
      "Score en K-fold: 0.592\n",
      "\n",
      "\n",
      "--> RidgeClassifier: α=1000 <--\n",
      "Score en K-fold: 0.586\n",
      "\n",
      "\n",
      "--> Logistic regresion: C=0.001 <--\n",
      "Score en K-fold: 0.662\n",
      "\n",
      "\n",
      "--> Logistic regresion: C=0.01 <--\n",
      "Score en K-fold: 0.677\n",
      "\n",
      "\n",
      "--> Logistic regresion: C=0.1 <--\n",
      "Score en K-fold: 0.683\n",
      "\n",
      "\n",
      "--> Logistic regresion: C=0.5 <--\n",
      "Score en K-fold: 0.684\n",
      "\n",
      "\n",
      "--> Logistic regresion: C=1 <--\n",
      "Score en K-fold: 0.684\n",
      "\n",
      "\n",
      "--> Logistic regresion: C=2 <--\n",
      "Score en K-fold: 0.684\n",
      "\n",
      "\n",
      "--> Logistic regresion: C=5 <--\n",
      "Score en K-fold: 0.684\n",
      "\n",
      "\n",
      "--> Logistic regresion: C=10 <--\n",
      "Score en K-fold: 0.684\n",
      "\n",
      "\n",
      "--> Logistic regresion: C=100 <--\n",
      "Score en K-fold: 0.684\n",
      "\n",
      "\n",
      "--> Logistic regresion: C=1000 <--\n",
      "Score en K-fold: 0.684\n",
      "\n",
      "\n",
      "\n",
      "Mejor modelo: LogisticRegression(C=10, class_weight='balanced', multi_class='ovr', n_jobs=-1,\n",
      "                   random_state=1997, solver='saga')\n"
     ]
    }
   ],
   "source": [
    "best_linear = kfold_models(linear_models, X_train, y_train, seed, \n",
    "                           scorer, stratified=False, verbose=True)"
   ]
  },
  {
   "cell_type": "code",
   "execution_count": 22,
   "metadata": {},
   "outputs": [
    {
     "name": "stdout",
     "output_type": "stream",
     "text": [
      "Los modelos que se van a considerar son: \n",
      "\t SVM (3-poly): C=250\n",
      "\t SVM (3-poly): C=500\n",
      "\t SVM (3-poly): C=1000\n",
      "\t SVM (3-poly): C=1250\n",
      "\t SVM (5-poly): C=250\n",
      "\t SVM (5-poly): C=500\n",
      "\t SVM (5-poly): C=1000\n",
      "\t SVM (5-poly): C=1250\n",
      "\t SVM (rbf): C=250\n",
      "\t SVM (rbf): C=500\n",
      "\t SVM (rbf): C=1000\n",
      "\t SVM (rbf): C=1250\n",
      "\n",
      "\n",
      "--> SVM (3-poly): C=250 <--\n",
      "Score en K-fold: 0.838\n",
      "\n",
      "\n",
      "--> SVM (3-poly): C=500 <--\n",
      "Score en K-fold: 0.840\n",
      "\n",
      "\n",
      "--> SVM (3-poly): C=1000 <--\n",
      "Score en K-fold: 0.839\n",
      "\n",
      "\n",
      "--> SVM (3-poly): C=1250 <--\n",
      "Score en K-fold: 0.840\n",
      "\n",
      "\n",
      "--> SVM (5-poly): C=250 <--\n",
      "Score en K-fold: 0.828\n",
      "\n",
      "\n",
      "--> SVM (5-poly): C=500 <--\n",
      "Score en K-fold: 0.834\n",
      "\n",
      "\n",
      "--> SVM (5-poly): C=1000 <--\n",
      "Score en K-fold: 0.838\n",
      "\n",
      "\n",
      "--> SVM (5-poly): C=1250 <--\n",
      "Score en K-fold: 0.839\n",
      "\n",
      "\n",
      "--> SVM (rbf): C=250 <--\n",
      "Score en K-fold: 0.850\n",
      "\n",
      "\n",
      "--> SVM (rbf): C=500 <--\n",
      "Score en K-fold: 0.852\n",
      "\n",
      "\n",
      "--> SVM (rbf): C=1000 <--\n",
      "Score en K-fold: 0.855\n",
      "\n",
      "\n",
      "--> SVM (rbf): C=1250 <--\n",
      "Score en K-fold: 0.856\n",
      "\n",
      "\n",
      "\n",
      "Mejor modelo: SVC(C=1250)\n"
     ]
    }
   ],
   "source": [
    "best_svm = kfold_models(svm_models, X_train, y_train, seed, scorer,\n",
    "                        stratified=False, verbose=True)"
   ]
  },
  {
   "cell_type": "code",
   "execution_count": 23,
   "metadata": {},
   "outputs": [
    {
     "name": "stdout",
     "output_type": "stream",
     "text": [
      "Los modelos que se van a considerar son: \n",
      "\t Random Forest: 100 estimators, 1000 samples\n",
      "\t Random Forest: 500 estimators, 1000 samples\n",
      "\t Random Forest: 100 estimators\n",
      "\t Random Forest: 200 estimators\n",
      "\n",
      "\n",
      "--> Random Forest: 100 estimators, 1000 samples <--\n",
      "Score en K-fold: 0.832\n",
      "\n",
      "\n",
      "--> Random Forest: 500 estimators, 1000 samples <--\n",
      "Score en K-fold: 0.837\n",
      "\n",
      "\n",
      "--> Random Forest: 100 estimators <--\n",
      "Score en K-fold: 0.896\n",
      "\n",
      "\n",
      "--> Random Forest: 200 estimators <--\n",
      "Score en K-fold: 0.898\n",
      "\n",
      "\n",
      "\n",
      "Mejor modelo: RandomForestClassifier(class_weight='balanced', n_estimators=200, n_jobs=-1,\n",
      "                       random_state=1997)\n"
     ]
    }
   ],
   "source": [
    "best_rf = kfold_models(rf_models, X_train, y_train, seed, scorer,\n",
    "                        stratified=True, verbose=True)"
   ]
  },
  {
   "cell_type": "code",
   "execution_count": 24,
   "metadata": {},
   "outputs": [
    {
     "name": "stdout",
     "output_type": "stream",
     "text": [
      "Los modelos que se van a considerar son: \n",
      "\t Balanced Random Forest: 100 estimators, 1000 samples\n",
      "\t Balanced Random Forest: 200 estimators, 1000 samples\n",
      "\n",
      "\n",
      "--> Balanced Random Forest: 100 estimators, 1000 samples <--\n",
      "Score en K-fold: 0.740\n",
      "\n",
      "\n",
      "--> Balanced Random Forest: 200 estimators, 1000 samples <--\n",
      "Score en K-fold: 0.742\n",
      "\n",
      "\n",
      "\n",
      "Mejor modelo: BalancedRandomForestClassifier(class_weight='balanced', n_estimators=200,\n",
      "                               n_jobs=-1, random_state=1997,\n",
      "                               sampling_strategy='not minority')\n"
     ]
    }
   ],
   "source": [
    "best_balanced_rf = kfold_models(balanced_rf_models, X_train, y_train, seed, scorer,\n",
    "                        stratified=True, verbose=True)"
   ]
  },
  {
   "cell_type": "markdown",
   "metadata": {},
   "source": [
    "Entrenamos y evaluamos cada modelo en el conjunto de validación, quedandonos con el mejor de ellos en `best_model`."
   ]
  },
  {
   "cell_type": "code",
   "execution_count": 25,
   "metadata": {},
   "outputs": [
    {
     "name": "stdout",
     "output_type": "stream",
     "text": [
      "LogisticRegression(C=10, class_weight='balanced', multi_class='ovr', n_jobs=-1,\n",
      "                   random_state=1997, solver='saga')\n"
     ]
    },
    {
     "name": "stderr",
     "output_type": "stream",
     "text": [
      "/home/ludvins/.local/lib/python3.8/site-packages/sklearn/linear_model/_sag.py:329: ConvergenceWarning: The max_iter was reached which means the coef_ did not converge\n",
      "  warnings.warn(\"The max_iter was reached which means \"\n"
     ]
    },
    {
     "name": "stdout",
     "output_type": "stream",
     "text": [
      "Validation Score:  0.5052467606525998\n",
      "SVC(C=1250)\n",
      "Validation Score:  0.711269052752145\n",
      "RandomForestClassifier(class_weight='balanced', n_estimators=200, n_jobs=-1,\n",
      "                       random_state=1997)\n",
      "Validation Score:  0.7522490226724582\n",
      "BalancedRandomForestClassifier(class_weight='balanced', n_estimators=200,\n",
      "                               n_jobs=-1, random_state=1997,\n",
      "                               sampling_strategy='not minority')\n",
      "Validation Score:  0.47484571413328724\n"
     ]
    }
   ],
   "source": [
    "best_model = 0\n",
    "best_model_score = 0\n",
    "\n",
    "models = [best_linear, best_svm, best_rf, best_balanced_rf]\n",
    "\n",
    "for model in models:\n",
    "    print(model)\n",
    "    model.fit(X_train, y_train)\n",
    "    y_pred = model.predict(X_val)\n",
    "    val_score = f1_score(y_val, y_pred, average='weighted')\n",
    "    print(\"Validation Score: \", val_score)\n",
    "    if best_model_score < val_score:\n",
    "        best_model_score = val_score\n",
    "        best_model = model"
   ]
  },
  {
   "cell_type": "markdown",
   "metadata": {},
   "source": [
    "El mejor modelo ha resultado:"
   ]
  },
  {
   "cell_type": "code",
   "execution_count": 26,
   "metadata": {},
   "outputs": [
    {
     "name": "stdout",
     "output_type": "stream",
     "text": [
      "RandomForestClassifier(class_weight='balanced', n_estimators=200, n_jobs=-1,\n",
      "                       random_state=1997)\n"
     ]
    }
   ],
   "source": [
    "print(best_model)"
   ]
  },
  {
   "cell_type": "markdown",
   "metadata": {},
   "source": [
    "# Predicción"
   ]
  },
  {
   "cell_type": "markdown",
   "metadata": {},
   "source": [
    "Predecimos los valores de `test` con dicho modelo."
   ]
  },
  {
   "cell_type": "code",
   "execution_count": 27,
   "metadata": {},
   "outputs": [
    {
     "name": "stdout",
     "output_type": "stream",
     "text": [
      "F1-score obtenido: 0.76\n"
     ]
    }
   ],
   "source": [
    "y_pred = best_model.predict(X_test)\n",
    "print(\"F1-score obtenido: {:.2f}\".format(f1_score(y_test, y_pred, average='weighted')))"
   ]
  },
  {
   "cell_type": "markdown",
   "metadata": {},
   "source": [
    "Mostramos la curva de aprendizaje obtenida por el modelo de la siguiente forma, empezamos tomando el $10\\%$ del conjunto de `train` y hacemos `cross-validation` con dicho conjunto, repetimos el proceso aumentando el porcentage del conjunto utilizado hasta llegar al $100\\%$."
   ]
  },
  {
   "cell_type": "code",
   "execution_count": 28,
   "metadata": {},
   "outputs": [
    {
     "data": {
      "text/plain": [
       "<module 'matplotlib.pyplot' from '/usr/lib/python3.8/site-packages/matplotlib/pyplot.py'>"
      ]
     },
     "execution_count": 28,
     "metadata": {},
     "output_type": "execute_result"
    },
    {
     "data": {
      "image/png": "[encoded data removed]",
      "text/plain": [
       "<Figure size 432x288 with 1 Axes>"
      ]
     },
     "metadata": {
      "needs_background": "light"
     },
     "output_type": "display_data"
    }
   ],
   "source": [
    "plot_learning_curve(best_model, \"test\", X_train, y_train)"
   ]
  },
  {
   "cell_type": "markdown",
   "metadata": {},
   "source": [
    "Mostramos la matriz de confusión de los datos"
   ]
  },
  {
   "cell_type": "code",
   "execution_count": 29,
   "metadata": {},
   "outputs": [
    {
     "data": {
      "image/png": "[encoded data removed]",
      "text/plain": [
       "<Figure size 432x288 with 1 Axes>"
      ]
     },
     "metadata": {
      "needs_background": "light"
     },
     "output_type": "display_data"
    }
   ],
   "source": [
    "\"\"\"Muestra matriz de confusión de la base de datos de dígitos.\"\"\"\n",
    "show_confusion_matrix(y_test, y_pred, 7)"
   ]
  },
  {
   "cell_type": "code",
   "execution_count": 30,
   "metadata": {},
   "outputs": [
    {
     "name": "stdout",
     "output_type": "stream",
     "text": [
      "              precision    recall  f1-score   support\n",
      "\n",
      "           1       0.72      0.83      0.77    200379\n",
      "           2       0.85      0.74      0.79    269943\n",
      "           3       0.62      0.93      0.74     33307\n",
      "           4       0.43      0.06      0.10      2559\n",
      "           5       0.51      0.23      0.32      8844\n",
      "           6       0.64      0.42      0.51     16178\n",
      "           7       0.65      0.67      0.66     19107\n",
      "\n",
      "    accuracy                           0.76    550317\n",
      "   macro avg       0.63      0.55      0.56    550317\n",
      "weighted avg       0.77      0.76      0.76    550317\n",
      "\n"
     ]
    }
   ],
   "source": [
    "print(classification_report(y_test, y_pred))"
   ]
  },
  {
   "cell_type": "code",
   "execution_count": 31,
   "metadata": {},
   "outputs": [
    {
     "data": {
      "text/plain": [
       "2    269943\n",
       "1    200379\n",
       "3     33307\n",
       "7     19107\n",
       "6     16178\n",
       "5      8844\n",
       "4      2559\n",
       "Name: Cover_Type, dtype: int64"
      ]
     },
     "execution_count": 31,
     "metadata": {},
     "output_type": "execute_result"
    }
   ],
   "source": [
    "y_test.value_counts()"
   ]
  },
  {
   "cell_type": "code",
   "execution_count": null,
   "metadata": {},
   "outputs": [],
   "source": []
  },
  {
   "cell_type": "code",
   "execution_count": null,
   "metadata": {},
   "outputs": [],
   "source": []
  }
 ],
 "metadata": {
  "kernelspec": {
   "display_name": "Python 3",
   "language": "python",
   "name": "python3"
  },
  "language_info": {
   "codemirror_mode": {
    "name": "ipython",
    "version": 3
   },
   "file_extension": ".py",
   "mimetype": "text/x-python",
   "name": "python",
   "nbconvert_exporter": "python",
   "pygments_lexer": "ipython3",
   "version": "3.8.3"
  },
  "toc": {
   "base_numbering": 1,
   "nav_menu": {},
   "number_sections": true,
   "sideBar": true,
   "skip_h1_title": false,
   "title_cell": "Table of Contents",
   "title_sidebar": "Contents",
   "toc_cell": false,
   "toc_position": {
    "height": "calc(100% - 180px)",
    "left": "10px",
    "top": "150px",
    "width": "265.45px"
   },
   "toc_section_display": true,
   "toc_window_display": true
  }
 },
 "nbformat": 4,
 "nbformat_minor": 4
}

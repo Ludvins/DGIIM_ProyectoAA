{
 "cells": [
  {
   "cell_type": "markdown",
   "metadata": {},
   "source": [
    "# Imports"
   ]
  },
  {
   "cell_type": "code",
   "execution_count": 24,
   "metadata": {},
   "outputs": [],
   "source": [
    "from sklearn.neighbors import KNeighborsClassifier\n",
    "from sklearn.svm import SVC\n",
    "from sklearn.neural_network import MLPClassifier\n",
    "from sklearn.model_selection import train_test_split\n",
    "from sklearn.metrics import f1_score\n",
    "from sklearn import preprocessing\n",
    "from aux import *\n",
    "\n",
    "import pandas as pd\n",
    "pd.options.display.max_columns = 100"
   ]
  },
  {
   "cell_type": "markdown",
   "metadata": {},
   "source": [
    "# Lectura de datos"
   ]
  },
  {
   "cell_type": "code",
   "execution_count": 37,
   "metadata": {},
   "outputs": [],
   "source": [
    "# Leemos la base de datos\n",
    "\n",
    "col_names = ['Elevation', 'Aspect', 'Slope', 'Horizontal_Distance_To_Hydrology', 'Vertical_Distance_To_Hydrology', 'Horizontal_Distance_To_Roadways', 'Hillshade_9am', 'Hillshade_Noon', 'Hillshade_3pm', 'Horizontal_Distance_To_Fire_Points']\n",
    "for i in range(1,5):\n",
    "    col_names.append('Wilderness_Area_' + str(i))\n",
    "for i in range(1,41):\n",
    "    col_names.append('Soil_Type_' + str(i))\n",
    "col_names.append('Cover_Type')\n",
    "\n",
    "dataset = pd.read_csv('covtype.data', header=None, names=col_names)"
   ]
  },
  {
   "cell_type": "code",
   "execution_count": 38,
   "metadata": {},
   "outputs": [
    {
     "data": {
      "text/html": [
       "<div>\n",
       "<style scoped>\n",
       "    .dataframe tbody tr th:only-of-type {\n",
       "        vertical-align: middle;\n",
       "    }\n",
       "\n",
       "    .dataframe tbody tr th {\n",
       "        vertical-align: top;\n",
       "    }\n",
       "\n",
       "    .dataframe thead th {\n",
       "        text-align: right;\n",
       "    }\n",
       "</style>\n",
       "<table border=\"1\" class=\"dataframe\">\n",
       "  <thead>\n",
       "    <tr style=\"text-align: right;\">\n",
       "      <th></th>\n",
       "      <th>Elevation</th>\n",
       "      <th>Aspect</th>\n",
       "      <th>Slope</th>\n",
       "      <th>Horizontal_Distance_To_Hydrology</th>\n",
       "      <th>Vertical_Distance_To_Hydrology</th>\n",
       "      <th>Horizontal_Distance_To_Roadways</th>\n",
       "      <th>Hillshade_9am</th>\n",
       "      <th>Hillshade_Noon</th>\n",
       "      <th>Hillshade_3pm</th>\n",
       "      <th>Horizontal_Distance_To_Fire_Points</th>\n",
       "      <th>Wilderness_Area_1</th>\n",
       "      <th>Wilderness_Area_2</th>\n",
       "      <th>Wilderness_Area_3</th>\n",
       "      <th>Wilderness_Area_4</th>\n",
       "      <th>Soil_Type_1</th>\n",
       "      <th>Soil_Type_2</th>\n",
       "      <th>Soil_Type_3</th>\n",
       "      <th>Soil_Type_4</th>\n",
       "      <th>Soil_Type_5</th>\n",
       "      <th>Soil_Type_6</th>\n",
       "      <th>Soil_Type_7</th>\n",
       "      <th>Soil_Type_8</th>\n",
       "      <th>Soil_Type_9</th>\n",
       "      <th>Soil_Type_10</th>\n",
       "      <th>Soil_Type_11</th>\n",
       "      <th>Soil_Type_12</th>\n",
       "      <th>Soil_Type_13</th>\n",
       "      <th>Soil_Type_14</th>\n",
       "      <th>Soil_Type_15</th>\n",
       "      <th>Soil_Type_16</th>\n",
       "      <th>Soil_Type_17</th>\n",
       "      <th>Soil_Type_18</th>\n",
       "      <th>Soil_Type_19</th>\n",
       "      <th>Soil_Type_20</th>\n",
       "      <th>Soil_Type_21</th>\n",
       "      <th>Soil_Type_22</th>\n",
       "      <th>Soil_Type_23</th>\n",
       "      <th>Soil_Type_24</th>\n",
       "      <th>Soil_Type_25</th>\n",
       "      <th>Soil_Type_26</th>\n",
       "      <th>Soil_Type_27</th>\n",
       "      <th>Soil_Type_28</th>\n",
       "      <th>Soil_Type_29</th>\n",
       "      <th>Soil_Type_30</th>\n",
       "      <th>Soil_Type_31</th>\n",
       "      <th>Soil_Type_32</th>\n",
       "      <th>Soil_Type_33</th>\n",
       "      <th>Soil_Type_34</th>\n",
       "      <th>Soil_Type_35</th>\n",
       "      <th>Soil_Type_36</th>\n",
       "      <th>Soil_Type_37</th>\n",
       "      <th>Soil_Type_38</th>\n",
       "      <th>Soil_Type_39</th>\n",
       "      <th>Soil_Type_40</th>\n",
       "      <th>Cover_Type</th>\n",
       "    </tr>\n",
       "  </thead>\n",
       "  <tbody>\n",
       "    <tr>\n",
       "      <th>0</th>\n",
       "      <td>2596</td>\n",
       "      <td>51</td>\n",
       "      <td>3</td>\n",
       "      <td>258</td>\n",
       "      <td>0</td>\n",
       "      <td>510</td>\n",
       "      <td>221</td>\n",
       "      <td>232</td>\n",
       "      <td>148</td>\n",
       "      <td>6279</td>\n",
       "      <td>1</td>\n",
       "      <td>0</td>\n",
       "      <td>0</td>\n",
       "      <td>0</td>\n",
       "      <td>0</td>\n",
       "      <td>0</td>\n",
       "      <td>0</td>\n",
       "      <td>0</td>\n",
       "      <td>0</td>\n",
       "      <td>0</td>\n",
       "      <td>0</td>\n",
       "      <td>0</td>\n",
       "      <td>0</td>\n",
       "      <td>0</td>\n",
       "      <td>0</td>\n",
       "      <td>0</td>\n",
       "      <td>0</td>\n",
       "      <td>0</td>\n",
       "      <td>0</td>\n",
       "      <td>0</td>\n",
       "      <td>0</td>\n",
       "      <td>0</td>\n",
       "      <td>0</td>\n",
       "      <td>0</td>\n",
       "      <td>0</td>\n",
       "      <td>0</td>\n",
       "      <td>0</td>\n",
       "      <td>0</td>\n",
       "      <td>0</td>\n",
       "      <td>0</td>\n",
       "      <td>0</td>\n",
       "      <td>0</td>\n",
       "      <td>1</td>\n",
       "      <td>0</td>\n",
       "      <td>0</td>\n",
       "      <td>0</td>\n",
       "      <td>0</td>\n",
       "      <td>0</td>\n",
       "      <td>0</td>\n",
       "      <td>0</td>\n",
       "      <td>0</td>\n",
       "      <td>0</td>\n",
       "      <td>0</td>\n",
       "      <td>0</td>\n",
       "      <td>5</td>\n",
       "    </tr>\n",
       "    <tr>\n",
       "      <th>1</th>\n",
       "      <td>2590</td>\n",
       "      <td>56</td>\n",
       "      <td>2</td>\n",
       "      <td>212</td>\n",
       "      <td>-6</td>\n",
       "      <td>390</td>\n",
       "      <td>220</td>\n",
       "      <td>235</td>\n",
       "      <td>151</td>\n",
       "      <td>6225</td>\n",
       "      <td>1</td>\n",
       "      <td>0</td>\n",
       "      <td>0</td>\n",
       "      <td>0</td>\n",
       "      <td>0</td>\n",
       "      <td>0</td>\n",
       "      <td>0</td>\n",
       "      <td>0</td>\n",
       "      <td>0</td>\n",
       "      <td>0</td>\n",
       "      <td>0</td>\n",
       "      <td>0</td>\n",
       "      <td>0</td>\n",
       "      <td>0</td>\n",
       "      <td>0</td>\n",
       "      <td>0</td>\n",
       "      <td>0</td>\n",
       "      <td>0</td>\n",
       "      <td>0</td>\n",
       "      <td>0</td>\n",
       "      <td>0</td>\n",
       "      <td>0</td>\n",
       "      <td>0</td>\n",
       "      <td>0</td>\n",
       "      <td>0</td>\n",
       "      <td>0</td>\n",
       "      <td>0</td>\n",
       "      <td>0</td>\n",
       "      <td>0</td>\n",
       "      <td>0</td>\n",
       "      <td>0</td>\n",
       "      <td>0</td>\n",
       "      <td>1</td>\n",
       "      <td>0</td>\n",
       "      <td>0</td>\n",
       "      <td>0</td>\n",
       "      <td>0</td>\n",
       "      <td>0</td>\n",
       "      <td>0</td>\n",
       "      <td>0</td>\n",
       "      <td>0</td>\n",
       "      <td>0</td>\n",
       "      <td>0</td>\n",
       "      <td>0</td>\n",
       "      <td>5</td>\n",
       "    </tr>\n",
       "    <tr>\n",
       "      <th>2</th>\n",
       "      <td>2804</td>\n",
       "      <td>139</td>\n",
       "      <td>9</td>\n",
       "      <td>268</td>\n",
       "      <td>65</td>\n",
       "      <td>3180</td>\n",
       "      <td>234</td>\n",
       "      <td>238</td>\n",
       "      <td>135</td>\n",
       "      <td>6121</td>\n",
       "      <td>1</td>\n",
       "      <td>0</td>\n",
       "      <td>0</td>\n",
       "      <td>0</td>\n",
       "      <td>0</td>\n",
       "      <td>0</td>\n",
       "      <td>0</td>\n",
       "      <td>0</td>\n",
       "      <td>0</td>\n",
       "      <td>0</td>\n",
       "      <td>0</td>\n",
       "      <td>0</td>\n",
       "      <td>0</td>\n",
       "      <td>0</td>\n",
       "      <td>0</td>\n",
       "      <td>1</td>\n",
       "      <td>0</td>\n",
       "      <td>0</td>\n",
       "      <td>0</td>\n",
       "      <td>0</td>\n",
       "      <td>0</td>\n",
       "      <td>0</td>\n",
       "      <td>0</td>\n",
       "      <td>0</td>\n",
       "      <td>0</td>\n",
       "      <td>0</td>\n",
       "      <td>0</td>\n",
       "      <td>0</td>\n",
       "      <td>0</td>\n",
       "      <td>0</td>\n",
       "      <td>0</td>\n",
       "      <td>0</td>\n",
       "      <td>0</td>\n",
       "      <td>0</td>\n",
       "      <td>0</td>\n",
       "      <td>0</td>\n",
       "      <td>0</td>\n",
       "      <td>0</td>\n",
       "      <td>0</td>\n",
       "      <td>0</td>\n",
       "      <td>0</td>\n",
       "      <td>0</td>\n",
       "      <td>0</td>\n",
       "      <td>0</td>\n",
       "      <td>2</td>\n",
       "    </tr>\n",
       "    <tr>\n",
       "      <th>3</th>\n",
       "      <td>2785</td>\n",
       "      <td>155</td>\n",
       "      <td>18</td>\n",
       "      <td>242</td>\n",
       "      <td>118</td>\n",
       "      <td>3090</td>\n",
       "      <td>238</td>\n",
       "      <td>238</td>\n",
       "      <td>122</td>\n",
       "      <td>6211</td>\n",
       "      <td>1</td>\n",
       "      <td>0</td>\n",
       "      <td>0</td>\n",
       "      <td>0</td>\n",
       "      <td>0</td>\n",
       "      <td>0</td>\n",
       "      <td>0</td>\n",
       "      <td>0</td>\n",
       "      <td>0</td>\n",
       "      <td>0</td>\n",
       "      <td>0</td>\n",
       "      <td>0</td>\n",
       "      <td>0</td>\n",
       "      <td>0</td>\n",
       "      <td>0</td>\n",
       "      <td>0</td>\n",
       "      <td>0</td>\n",
       "      <td>0</td>\n",
       "      <td>0</td>\n",
       "      <td>0</td>\n",
       "      <td>0</td>\n",
       "      <td>0</td>\n",
       "      <td>0</td>\n",
       "      <td>0</td>\n",
       "      <td>0</td>\n",
       "      <td>0</td>\n",
       "      <td>0</td>\n",
       "      <td>0</td>\n",
       "      <td>0</td>\n",
       "      <td>0</td>\n",
       "      <td>0</td>\n",
       "      <td>0</td>\n",
       "      <td>0</td>\n",
       "      <td>1</td>\n",
       "      <td>0</td>\n",
       "      <td>0</td>\n",
       "      <td>0</td>\n",
       "      <td>0</td>\n",
       "      <td>0</td>\n",
       "      <td>0</td>\n",
       "      <td>0</td>\n",
       "      <td>0</td>\n",
       "      <td>0</td>\n",
       "      <td>0</td>\n",
       "      <td>2</td>\n",
       "    </tr>\n",
       "    <tr>\n",
       "      <th>4</th>\n",
       "      <td>2595</td>\n",
       "      <td>45</td>\n",
       "      <td>2</td>\n",
       "      <td>153</td>\n",
       "      <td>-1</td>\n",
       "      <td>391</td>\n",
       "      <td>220</td>\n",
       "      <td>234</td>\n",
       "      <td>150</td>\n",
       "      <td>6172</td>\n",
       "      <td>1</td>\n",
       "      <td>0</td>\n",
       "      <td>0</td>\n",
       "      <td>0</td>\n",
       "      <td>0</td>\n",
       "      <td>0</td>\n",
       "      <td>0</td>\n",
       "      <td>0</td>\n",
       "      <td>0</td>\n",
       "      <td>0</td>\n",
       "      <td>0</td>\n",
       "      <td>0</td>\n",
       "      <td>0</td>\n",
       "      <td>0</td>\n",
       "      <td>0</td>\n",
       "      <td>0</td>\n",
       "      <td>0</td>\n",
       "      <td>0</td>\n",
       "      <td>0</td>\n",
       "      <td>0</td>\n",
       "      <td>0</td>\n",
       "      <td>0</td>\n",
       "      <td>0</td>\n",
       "      <td>0</td>\n",
       "      <td>0</td>\n",
       "      <td>0</td>\n",
       "      <td>0</td>\n",
       "      <td>0</td>\n",
       "      <td>0</td>\n",
       "      <td>0</td>\n",
       "      <td>0</td>\n",
       "      <td>0</td>\n",
       "      <td>1</td>\n",
       "      <td>0</td>\n",
       "      <td>0</td>\n",
       "      <td>0</td>\n",
       "      <td>0</td>\n",
       "      <td>0</td>\n",
       "      <td>0</td>\n",
       "      <td>0</td>\n",
       "      <td>0</td>\n",
       "      <td>0</td>\n",
       "      <td>0</td>\n",
       "      <td>0</td>\n",
       "      <td>5</td>\n",
       "    </tr>\n",
       "  </tbody>\n",
       "</table>\n",
       "</div>"
      ],
      "text/plain": [
       "   Elevation  Aspect  Slope  Horizontal_Distance_To_Hydrology  \\\n",
       "0       2596      51      3                               258   \n",
       "1       2590      56      2                               212   \n",
       "2       2804     139      9                               268   \n",
       "3       2785     155     18                               242   \n",
       "4       2595      45      2                               153   \n",
       "\n",
       "   Vertical_Distance_To_Hydrology  Horizontal_Distance_To_Roadways  \\\n",
       "0                               0                              510   \n",
       "1                              -6                              390   \n",
       "2                              65                             3180   \n",
       "3                             118                             3090   \n",
       "4                              -1                              391   \n",
       "\n",
       "   Hillshade_9am  Hillshade_Noon  Hillshade_3pm  \\\n",
       "0            221             232            148   \n",
       "1            220             235            151   \n",
       "2            234             238            135   \n",
       "3            238             238            122   \n",
       "4            220             234            150   \n",
       "\n",
       "   Horizontal_Distance_To_Fire_Points  Wilderness_Area_1  Wilderness_Area_2  \\\n",
       "0                                6279                  1                  0   \n",
       "1                                6225                  1                  0   \n",
       "2                                6121                  1                  0   \n",
       "3                                6211                  1                  0   \n",
       "4                                6172                  1                  0   \n",
       "\n",
       "   Wilderness_Area_3  Wilderness_Area_4  Soil_Type_1  Soil_Type_2  \\\n",
       "0                  0                  0            0            0   \n",
       "1                  0                  0            0            0   \n",
       "2                  0                  0            0            0   \n",
       "3                  0                  0            0            0   \n",
       "4                  0                  0            0            0   \n",
       "\n",
       "   Soil_Type_3  Soil_Type_4  Soil_Type_5  Soil_Type_6  Soil_Type_7  \\\n",
       "0            0            0            0            0            0   \n",
       "1            0            0            0            0            0   \n",
       "2            0            0            0            0            0   \n",
       "3            0            0            0            0            0   \n",
       "4            0            0            0            0            0   \n",
       "\n",
       "   Soil_Type_8  Soil_Type_9  Soil_Type_10  Soil_Type_11  Soil_Type_12  \\\n",
       "0            0            0             0             0             0   \n",
       "1            0            0             0             0             0   \n",
       "2            0            0             0             0             1   \n",
       "3            0            0             0             0             0   \n",
       "4            0            0             0             0             0   \n",
       "\n",
       "   Soil_Type_13  Soil_Type_14  Soil_Type_15  Soil_Type_16  Soil_Type_17  \\\n",
       "0             0             0             0             0             0   \n",
       "1             0             0             0             0             0   \n",
       "2             0             0             0             0             0   \n",
       "3             0             0             0             0             0   \n",
       "4             0             0             0             0             0   \n",
       "\n",
       "   Soil_Type_18  Soil_Type_19  Soil_Type_20  Soil_Type_21  Soil_Type_22  \\\n",
       "0             0             0             0             0             0   \n",
       "1             0             0             0             0             0   \n",
       "2             0             0             0             0             0   \n",
       "3             0             0             0             0             0   \n",
       "4             0             0             0             0             0   \n",
       "\n",
       "   Soil_Type_23  Soil_Type_24  Soil_Type_25  Soil_Type_26  Soil_Type_27  \\\n",
       "0             0             0             0             0             0   \n",
       "1             0             0             0             0             0   \n",
       "2             0             0             0             0             0   \n",
       "3             0             0             0             0             0   \n",
       "4             0             0             0             0             0   \n",
       "\n",
       "   Soil_Type_28  Soil_Type_29  Soil_Type_30  Soil_Type_31  Soil_Type_32  \\\n",
       "0             0             1             0             0             0   \n",
       "1             0             1             0             0             0   \n",
       "2             0             0             0             0             0   \n",
       "3             0             0             1             0             0   \n",
       "4             0             1             0             0             0   \n",
       "\n",
       "   Soil_Type_33  Soil_Type_34  Soil_Type_35  Soil_Type_36  Soil_Type_37  \\\n",
       "0             0             0             0             0             0   \n",
       "1             0             0             0             0             0   \n",
       "2             0             0             0             0             0   \n",
       "3             0             0             0             0             0   \n",
       "4             0             0             0             0             0   \n",
       "\n",
       "   Soil_Type_38  Soil_Type_39  Soil_Type_40  Cover_Type  \n",
       "0             0             0             0           5  \n",
       "1             0             0             0           5  \n",
       "2             0             0             0           2  \n",
       "3             0             0             0           2  \n",
       "4             0             0             0           5  "
      ]
     },
     "execution_count": 38,
     "metadata": {},
     "output_type": "execute_result"
    }
   ],
   "source": [
    "dataset.head()"
   ]
  },
  {
   "cell_type": "code",
   "execution_count": 39,
   "metadata": {},
   "outputs": [],
   "source": [
    "X = dataset.drop('Cover_Type', axis=1)\n",
    "y = dataset['Cover_Type']"
   ]
  },
  {
   "cell_type": "markdown",
   "metadata": {},
   "source": [
    "# Train, test, val split"
   ]
  },
  {
   "cell_type": "code",
   "execution_count": 40,
   "metadata": {},
   "outputs": [
    {
     "data": {
      "image/png": "[encoded data removed]",
      "text/plain": [
       "<Figure size 432x288 with 1 Axes>"
      ]
     },
     "metadata": {},
     "output_type": "display_data"
    }
   ],
   "source": [
    "# Distribucion de las clases \n",
    "prop_class = y.value_counts(normalize=True)\n",
    "pieLabels = ['1','2','3','4','5','6','7']\n",
    "figureObject, axesObject = plt.subplots()\n",
    "axesObject.pie(prop_class*100, labels=pieLabels, autopct='%1.2f', startangle=180)\n",
    "axesObject.axis('equal')\n",
    "plt.title(\"Distribución de las clases del problema (%)\")\n",
    "plt.show()"
   ]
  },
  {
   "cell_type": "code",
   "execution_count": 41,
   "metadata": {},
   "outputs": [],
   "source": [
    "X_train, X_test, y_train, y_test = train_test_split(X, y, train_size=15120, stratify=y, random_state=1997)\n",
    "X_train, X_val, y_train, y_val = train_test_split(X_train, y_train, train_size=11340, stratify=y_train, random_state=1997)"
   ]
  },
  {
   "cell_type": "code",
   "execution_count": 9,
   "metadata": {},
   "outputs": [
    {
     "data": {
      "text/plain": [
       "2    5530\n",
       "1    4135\n",
       "3     698\n",
       "7     400\n",
       "6     339\n",
       "5     185\n",
       "4      53\n",
       "Name: Cover_Type, dtype: int64"
      ]
     },
     "execution_count": 9,
     "metadata": {},
     "output_type": "execute_result"
    }
   ],
   "source": [
    "y_train.value_counts()\n",
    "scatter(TSNE(2).fit_transform(X_train), y_train)"
   ]
  },
  {
   "cell_type": "markdown",
   "metadata": {},
   "source": [
    "# Preprocesado"
   ]
  },
  {
   "cell_type": "code",
   "execution_count": 45,
   "metadata": {},
   "outputs": [],
   "source": [
    "# Prueba (solo normalización)\n",
    "scaler = preprocessing.StandardScaler().fit(X_train)\n",
    "X_train_new = scaler.transform(X_train)\n",
    "X_val_new = scaler.transform(X_val)\n",
    "X_test_new = scaler.transform(X_test)"
   ]
  },
  {
   "cell_type": "code",
   "execution_count": 8,
   "metadata": {},
   "outputs": [],
   "source": [
    "data_preprocess = Pipeline(\n",
    "    [\n",
    "        (\"VT\", VarianceThreshold()),\n",
    "        (\"Scaler\", StandardScaler()),\n",
    "        (\"PCA\", PCA(0.95)),\n",
    "        (\"Scaler2\", StandardScaler()),\n",
    "    ]\n",
    ")"
   ]
  },
  {
   "cell_type": "code",
   "execution_count": 9,
   "metadata": {},
   "outputs": [
    {
     "name": "stdout",
     "output_type": "stream",
     "text": [
      "Matriz de correlación pre y post procesado (dígitos)\n"
     ]
    },
    {
     "name": "stderr",
     "output_type": "stream",
     "text": [
      "/usr/lib/python3.8/site-packages/numpy/lib/function_base.py:2534: RuntimeWarning: invalid value encountered in true_divide\n",
      "  c /= stddev[:, None]\n",
      "/usr/lib/python3.8/site-packages/numpy/lib/function_base.py:2535: RuntimeWarning: invalid value encountered in true_divide\n",
      "  c /= stddev[None, :]\n"
     ]
    },
    {
     "data": {
      "image/png": "[encoded data removed]",
      "text/plain": [
       "<Figure size 864x417.6 with 3 Axes>"
      ]
     },
     "metadata": {
      "needs_background": "light"
     },
     "output_type": "display_data"
    }
   ],
   "source": [
    "X_train_new = data_preprocess.fit_transform(X_train, y_train)\n",
    "show_preprocess_correlation_matrix(X_train, X_train_new)"
   ]
  },
  {
   "cell_type": "code",
   "execution_count": 10,
   "metadata": {},
   "outputs": [],
   "source": [
    "X_train = X_train_new\n",
    "X_val = data_preprocess.transform(X_val)\n",
    "X_test = data_preprocess.transform(X_test)"
   ]
  },
  {
   "cell_type": "markdown",
   "metadata": {},
   "source": [
    "# Modelos a considerar"
   ]
  },
  {
   "cell_type": "code",
   "execution_count": 48,
   "metadata": {},
   "outputs": [
    {
     "name": "stdout",
     "output_type": "stream",
     "text": [
      "Tiempo empleado en el ajuste: 50.84 segundos\n"
     ]
    }
   ],
   "source": [
    "# Prueba (modelo lineal)\n",
    "from sklearn.linear_model import LogisticRegressionCV\n",
    "reg_values = [0.005, 0.01, 0.1, 0.2, 0.3 ,0.5, 0.8, 1.0, 1.2, 1.5, 1.8, 2.0, 10.0, 30.0]\n",
    "clf = LogisticRegressionCV(Cs=reg_values, cv=3, solver='liblinear', random_state=1997)\n",
    "ini = time.time()\n",
    "clf.fit(X_train_new, y_train)\n",
    "fin = time.time()\n",
    "print(\"Tiempo empleado en el ajuste: {:.2f} segundos\".format(fin-ini))"
   ]
  },
  {
   "cell_type": "code",
   "execution_count": 53,
   "metadata": {},
   "outputs": [
    {
     "name": "stdout",
     "output_type": "stream",
     "text": [
      "Accuracy en test:\n",
      "0.7013653491598695\n"
     ]
    }
   ],
   "source": [
    "y_pred = clf.predict(X_test_new)\n",
    "print(\"Accuracy en test:\")\n",
    "print(f1_score(y_test, y_pred, average='weighted'))"
   ]
  },
  {
   "cell_type": "code",
   "execution_count": 11,
   "metadata": {},
   "outputs": [],
   "source": [
    "seed = 6\n",
    "models = []\n",
    "models += [\n",
    "    (\n",
    "        \"Logistic regresion: C={}\".format(c),\n",
    "        LogisticRegression(\n",
    "            C=c, multi_class=\"ovr\", penalty=\"l2\", max_iter=1000, random_state=seed\n",
    "        ),\n",
    "    )\n",
    "    for c in np.logspace(-2, 2, 3)\n",
    "]\n",
    "models += [\n",
    "    (\n",
    "        \"RidgeClassifier: \\u03B1={}\".format(a),\n",
    "        RidgeClassifier(alpha=a, random_state=seed, max_iter=1000),\n",
    "    )\n",
    "    for a in np.logspace(-2, 2, 3)\n",
    "]\n",
    "models += [\n",
    "    (\n",
    "        \"Perceptron: \\u03B1={}\".format(a),\n",
    "        Perceptron(alpha=a, penalty=\"l2\", random_state=seed, max_iter=1000),\n",
    "    )\n",
    "    for a in np.logspace(-7, -3, 3)\n",
    "]\n",
    "models += [\n",
    "    (\n",
    "        \"{}-NN\".format(k),\n",
    "        KNeighborsClassifier(n_neighbors=k)\n",
    "    )\n",
    "    for k in [1,2,3]\n",
    "]\n",
    "models += [\n",
    "    (\n",
    "        \"SVM C={}\".format(c),\n",
    "        SVC(C = c)\n",
    "    )\n",
    "    for c in np.logspace(-3, 3, 5)\n",
    "]"
   ]
  },
  {
   "cell_type": "markdown",
   "metadata": {},
   "source": [
    "# Elección de modelo"
   ]
  },
  {
   "cell_type": "code",
   "execution_count": 12,
   "metadata": {},
   "outputs": [
    {
     "name": "stdout",
     "output_type": "stream",
     "text": [
      "--> Logistic regresion: C=0.01 <--\n",
      "Validation Score:  0.640092452410982\n",
      "--> Logistic regresion: C=1.0 <--\n",
      "Validation Score:  0.6775579125642226\n",
      "--> Logistic regresion: C=100.0 <--\n",
      "Validation Score:  0.6893031644142877\n",
      "--> RidgeClassifier: α=0.01 <--\n",
      "Validation Score:  0.6093309283145929\n",
      "--> RidgeClassifier: α=1.0 <--\n",
      "Validation Score:  0.6093309283145929\n",
      "--> RidgeClassifier: α=100.0 <--\n",
      "Validation Score:  0.6088961794075585\n",
      "--> Perceptron: α=1e-07 <--\n",
      "Validation Score:  0.6091262807233893\n",
      "--> Perceptron: α=1e-05 <--\n",
      "Validation Score:  0.6053861570233174\n",
      "--> Perceptron: α=0.001 <--\n",
      "Validation Score:  0.5164434553027072\n",
      "--> 1-NN <--\n",
      "Validation Score:  0.7449545527726545\n",
      "--> 2-NN <--\n",
      "Validation Score:  0.7056232807543666\n",
      "--> 3-NN <--\n",
      "Validation Score:  0.7329259351770034\n",
      "--> SVM C=0.001 <--\n",
      "Validation Score:  0.3196103117675233\n",
      "--> SVM C=0.03162277660168379 <--\n",
      "Validation Score:  0.576360921632037\n",
      "--> SVM C=1.0 <--\n",
      "Validation Score:  0.7002246800889258\n",
      "--> SVM C=31.622776601683793 <--\n",
      "Validation Score:  0.7524828483175426\n",
      "--> SVM C=1000.0 <--\n",
      "Validation Score:  0.7762627981908611\n"
     ]
    }
   ],
   "source": [
    "# Devolvemos el mejor modelo de entre los considerados\n",
    "# best_model = kfold_models(models, X_train, y_train, seed, accuracy_score)\n",
    "best_model = 0\n",
    "best_model_score = 0\n",
    "for (name, model) in models:\n",
    "    print(\"--> {} <--\".format(name))\n",
    "    model.fit(X_train, y_train)\n",
    "    y_pred = model.predict(X_val)\n",
    "    val_score = f1_score(y_val, y_pred, average='weighted')\n",
    "    print(\"Validation Score: \", val_score)\n",
    "    if best_model_score < val_score:\n",
    "        best_model_score = val_score\n",
    "        best_model = model"
   ]
  },
  {
   "cell_type": "code",
   "execution_count": 13,
   "metadata": {},
   "outputs": [
    {
     "name": "stdout",
     "output_type": "stream",
     "text": [
      "SVC(C=1000.0, break_ties=False, cache_size=200, class_weight=None, coef0=0.0,\n",
      "    decision_function_shape='ovr', degree=3, gamma='scale', kernel='rbf',\n",
      "    max_iter=-1, probability=False, random_state=None, shrinking=True,\n",
      "    tol=0.001, verbose=False)\n"
     ]
    }
   ],
   "source": [
    "# Entrenamos el mejor modelo en todo el conjunto de datos\n",
    "print(best_model)\n",
    "# best_model.fit(X_train, y_train)"
   ]
  },
  {
   "cell_type": "markdown",
   "metadata": {},
   "source": [
    "# Predicción"
   ]
  },
  {
   "cell_type": "code",
   "execution_count": 14,
   "metadata": {},
   "outputs": [
    {
     "name": "stdout",
     "output_type": "stream",
     "text": [
      "Accuracy en test:\n",
      "0.7796049382777461\n"
     ]
    }
   ],
   "source": [
    "y_pred = best_model.predict(X_test)\n",
    "print(\"Accuracy en test:\")\n",
    "print(f1_score(y_test, y_pred, average='weighted'))"
   ]
  },
  {
   "cell_type": "code",
   "execution_count": 15,
   "metadata": {},
   "outputs": [
    {
     "data": {
      "text/plain": [
       "<module 'matplotlib.pyplot' from '/usr/lib/python3.8/site-packages/matplotlib/pyplot.py'>"
      ]
     },
     "execution_count": 15,
     "metadata": {},
     "output_type": "execute_result"
    },
    {
     "data": {
      "image/png": "[encoded data removed]",
      "text/plain": [
       "<Figure size 432x288 with 1 Axes>"
      ]
     },
     "metadata": {
      "needs_background": "light"
     },
     "output_type": "display_data"
    }
   ],
   "source": [
    "plot_learning_curve(best_model, \"test\", X_train, y_train)"
   ]
  },
  {
   "cell_type": "code",
   "execution_count": 16,
   "metadata": {},
   "outputs": [
    {
     "data": {
      "image/png": "[encoded data removed]",
      "text/plain": [
       "<Figure size 432x288 with 1 Axes>"
      ]
     },
     "metadata": {
      "needs_background": "light"
     },
     "output_type": "display_data"
    }
   ],
   "source": [
    "\"\"\"Muestra matriz de confusión de la base de datos de dígitos.\"\"\"\n",
    "mat = confusion_matrix(y_test, y_pred)\n",
    "mat = 100 * mat.astype(\"float64\") / mat.sum(axis=1)[:, np.newaxis]\n",
    "fig, ax = plt.subplots()\n",
    "ax.matshow(mat, cmap=\"Purples\")\n",
    "ax.set(\n",
    "    title=\"Matriz de confusión\",\n",
    "    xticks=np.arange(7),\n",
    "    yticks=np.arange(7),\n",
    "    xlabel=\"Etiqueta real\",\n",
    "    ylabel=\"Etiqueta predicha\",\n",
    ")\n",
    "for i in range(7):\n",
    "    for j in range(7):\n",
    "        ax.text(\n",
    "            j,\n",
    "            i,\n",
    "            \"{:.0f}%\".format(mat[i, j]),\n",
    "            ha=\"center\",\n",
    "            va=\"center\",\n",
    "            color=\"black\" if mat[i, j] < 50 else \"white\",\n",
    "        )\n",
    "\n",
    "plt.show()"
   ]
  },
  {
   "cell_type": "code",
   "execution_count": null,
   "metadata": {},
   "outputs": [],
   "source": []
  }
 ],
 "metadata": {
  "kernelspec": {
   "display_name": "Python 3",
   "language": "python",
   "name": "python3"
  },
  "language_info": {
   "codemirror_mode": {
    "name": "ipython",
    "version": 3
   },
   "file_extension": ".py",
   "mimetype": "text/x-python",
   "name": "python",
   "nbconvert_exporter": "python",
   "pygments_lexer": "ipython3",
   "version": "3.7.6"
  },
  "toc": {
   "base_numbering": 1,
   "nav_menu": {},
   "number_sections": true,
   "sideBar": true,
   "skip_h1_title": false,
   "title_cell": "Table of Contents",
   "title_sidebar": "Contents",
   "toc_cell": false,
   "toc_position": {},
   "toc_section_display": true,
   "toc_window_display": true
  }
 },
 "nbformat": 4,
 "nbformat_minor": 4
}

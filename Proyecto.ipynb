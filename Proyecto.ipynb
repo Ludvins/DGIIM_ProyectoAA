{
 "cells": [
  {
   "cell_type": "code",
   "execution_count": 1,
   "metadata": {},
   "outputs": [],
   "source": [
    "\n",
    "from sklearn.neighbors import KNeighborsClassifier\n",
    "from sklearn.svm import SVC\n",
    "from sklearn.neural_network import MLPClassifier\n",
    "from aux import *"
   ]
  },
  {
   "cell_type": "code",
   "execution_count": 2,
   "metadata": {},
   "outputs": [],
   "source": [
    "dataset = np.loadtxt(\"covtype.data\", delimiter=\",\")"
   ]
  },
  {
   "cell_type": "code",
   "execution_count": 3,
   "metadata": {},
   "outputs": [
    {
     "name": "stdout",
     "output_type": "stream",
     "text": [
      "(581012, 55)\n"
     ]
    }
   ],
   "source": [
    "print(dataset.shape)"
   ]
  },
  {
   "cell_type": "code",
   "execution_count": 28,
   "metadata": {},
   "outputs": [],
   "source": [
    "train = dataset[:11340]\n",
    "X_train = train[:, :-1]\n",
    "y_train = train[:, -1]"
   ]
  },
  {
   "cell_type": "code",
   "execution_count": 29,
   "metadata": {},
   "outputs": [],
   "source": [
    "val = dataset[11340:11340+3780]\n",
    "X_val = val[:, :-1]\n",
    "y_val = val[:, -1]"
   ]
  },
  {
   "cell_type": "code",
   "execution_count": 30,
   "metadata": {},
   "outputs": [],
   "source": [
    "test = dataset[11340+3780:11340+3780+565892]\n",
    "X_test = test[:, :-1]\n",
    "y_test = test[:, -1]"
   ]
  },
  {
   "cell_type": "code",
   "execution_count": 31,
   "metadata": {},
   "outputs": [],
   "source": [
    "data_preprocess = Pipeline(\n",
    "    [\n",
    "        (\"VT\", VarianceThreshold()),\n",
    "        (\"Scaler\", StandardScaler()),\n",
    "    ]\n",
    ")"
   ]
  },
  {
   "cell_type": "code",
   "execution_count": 32,
   "metadata": {},
   "outputs": [
    {
     "name": "stdout",
     "output_type": "stream",
     "text": [
      "Matriz de correlación pre y post procesado (dígitos)\n"
     ]
    },
    {
     "name": "stderr",
     "output_type": "stream",
     "text": [
      "/usr/lib/python3.8/site-packages/numpy/lib/function_base.py:2534: RuntimeWarning: invalid value encountered in true_divide\n",
      "  c /= stddev[:, None]\n",
      "/usr/lib/python3.8/site-packages/numpy/lib/function_base.py:2535: RuntimeWarning: invalid value encountered in true_divide\n",
      "  c /= stddev[None, :]\n"
     ]
    },
    {
     "data": {
      "image/png": "[encoded data removed]",
      "text/plain": [
       "<Figure size 864x417.6 with 3 Axes>"
      ]
     },
     "metadata": {
      "needs_background": "light"
     },
     "output_type": "display_data"
    }
   ],
   "source": [
    "show_preprocess_correlation_matrix(X_train, data_preprocess)"
   ]
  },
  {
   "cell_type": "code",
   "execution_count": 33,
   "metadata": {},
   "outputs": [],
   "source": [
    "X_train = data_preprocess.fit_transform(X_train, y_train)\n",
    "X_val = data_preprocess.transform(X_val)\n",
    "X_test = data_preprocess.transform(X_test)"
   ]
  },
  {
   "cell_type": "code",
   "execution_count": 34,
   "metadata": {},
   "outputs": [
    {
     "name": "stdout",
     "output_type": "stream",
     "text": [
      "--> Logistic regresion: C=0.01 <--\n",
      "Validation Score:  0.6698412698412698\n",
      "--> Logistic regresion: C=1.0 <--\n",
      "Validation Score:  0.682010582010582\n",
      "--> Logistic regresion: C=100.0 <--\n",
      "Validation Score:  0.6814814814814815\n",
      "--> RidgeClassifier: α=0.01 <--\n",
      "Validation Score:  0.6370370370370371\n",
      "--> RidgeClassifier: α=1.0 <--\n",
      "Validation Score:  0.6370370370370371\n",
      "--> RidgeClassifier: α=100.0 <--\n",
      "Validation Score:  0.6349206349206349\n",
      "--> Perceptron: α=1e-07 <--\n",
      "Validation Score:  0.5740740740740741\n",
      "--> Perceptron: α=1e-05 <--\n",
      "Validation Score:  0.5907407407407408\n",
      "--> Perceptron: α=0.001 <--\n",
      "Validation Score:  0.5634920634920635\n",
      "--> 1-NN <--\n",
      "Validation Score:  0.7931216931216931\n",
      "--> 2-NN <--\n",
      "Validation Score:  0.7761904761904762\n",
      "--> 3-NN <--\n",
      "Validation Score:  0.780952380952381\n",
      "--> SVM C=0.001 <--\n",
      "Validation Score:  0.587037037037037\n",
      "--> SVM C=1.0 <--\n",
      "Validation Score:  0.7343915343915344\n",
      "--> SVM C=1000.0 <--\n",
      "Validation Score:  0.8253968253968254\n"
     ]
    }
   ],
   "source": [
    "seed = 6\n",
    "models = []\n",
    "models += [\n",
    "    (\n",
    "        \"Logistic regresion: C={}\".format(c),\n",
    "        LogisticRegression(\n",
    "            C=c, multi_class=\"ovr\", penalty=\"l2\", max_iter=1000, random_state=seed\n",
    "        ),\n",
    "    )\n",
    "    for c in np.logspace(-2, 2, 3)\n",
    "]\n",
    "models += [\n",
    "    (\n",
    "        \"RidgeClassifier: \\u03B1={}\".format(a),\n",
    "        RidgeClassifier(alpha=a, random_state=seed, max_iter=1000),\n",
    "    )\n",
    "    for a in np.logspace(-2, 2, 3)\n",
    "]\n",
    "models += [\n",
    "    (\n",
    "        \"Perceptron: \\u03B1={}\".format(a),\n",
    "        Perceptron(alpha=a, penalty=\"l2\", random_state=seed, max_iter=1000),\n",
    "    )\n",
    "    for a in np.logspace(-7, -3, 3)\n",
    "]\n",
    "models += [\n",
    "    (\n",
    "        \"{}-NN\".format(k),\n",
    "        KNeighborsClassifier(n_neighbors=k)\n",
    "    )\n",
    "    for k in [1,2,3]\n",
    "]\n",
    "models += [\n",
    "    (\n",
    "        \"SVM C={}\".format(c),\n",
    "        SVC(C = c)\n",
    "    )\n",
    "    for c in np.logspace(-3, 3, 3)\n",
    "]\n",
    "\n",
    "\n",
    "# Devolvemos el mejor modelo de entre los considerados\n",
    "# best_model = kfold_models(models, X_train, y_train, seed, accuracy_score)\n",
    "best_model = 0\n",
    "best_model_score = 0\n",
    "for (name, model) in models:\n",
    "    print(\"--> {} <--\".format(name))\n",
    "    model.fit(X_train, y_train)\n",
    "    val_score = model.score(X_val, y_val)\n",
    "    print(\"Validation Score: \", val_score)\n",
    "    if best_model_score < val_score:\n",
    "        best_model_score = val_score\n",
    "        best_model = model"
   ]
  },
  {
   "cell_type": "code",
   "execution_count": 35,
   "metadata": {},
   "outputs": [
    {
     "name": "stdout",
     "output_type": "stream",
     "text": [
      "SVC(C=1000.0, break_ties=False, cache_size=200, class_weight=None, coef0=0.0,\n",
      "    decision_function_shape='ovr', degree=3, gamma='scale', kernel='rbf',\n",
      "    max_iter=-1, probability=False, random_state=None, shrinking=True,\n",
      "    tol=0.001, verbose=False)\n"
     ]
    }
   ],
   "source": [
    "# Entrenamos el mejor modelo en todo el conjunto de datos\n",
    "print(best_model)\n",
    "# best_model.fit(X_train, y_train)"
   ]
  },
  {
   "cell_type": "code",
   "execution_count": 37,
   "metadata": {},
   "outputs": [
    {
     "name": "stdout",
     "output_type": "stream",
     "text": [
      "Accuracy en test: 70.641%\n"
     ]
    }
   ],
   "source": [
    "y_pred = best_model.predict(X_test)\n",
    "print(\"Accuracy en test: {:.3f}%\".format(100 * accuracy_score(y_test, y_pred)))"
   ]
  },
  {
   "cell_type": "code",
   "execution_count": 43,
   "metadata": {},
   "outputs": [
    {
     "data": {
      "image/png": "[encoded data removed]",
      "text/plain": [
       "<Figure size 432x288 with 1 Axes>"
      ]
     },
     "metadata": {
      "needs_background": "light"
     },
     "output_type": "display_data"
    }
   ],
   "source": [
    "\"\"\"Muestra matriz de confusión de la base de datos de dígitos.\"\"\"\n",
    "mat = confusion_matrix(y_test, y_pred)\n",
    "mat = 100 * mat.astype(\"float64\") / mat.sum(axis=1)[:, np.newaxis]\n",
    "fig, ax = plt.subplots()\n",
    "ax.matshow(mat, cmap=\"Purples\")\n",
    "ax.set(\n",
    "    title=\"Matriz de confusión\",\n",
    "    xticks=np.arange(7),\n",
    "    yticks=np.arange(7),\n",
    "    xlabel=\"Etiqueta real\",\n",
    "    ylabel=\"Etiqueta predicha\",\n",
    ")\n",
    "for i in range(7):\n",
    "    for j in range(7):\n",
    "        ax.text(\n",
    "            j,\n",
    "            i,\n",
    "            \"{:.0f}%\".format(mat[i, j]),\n",
    "            ha=\"center\",\n",
    "            va=\"center\",\n",
    "            color=\"black\" if mat[i, j] < 50 else \"white\",\n",
    "        )\n",
    "\n",
    "plt.show()"
   ]
  },
  {
   "cell_type": "code",
   "execution_count": null,
   "metadata": {},
   "outputs": [],
   "source": []
  }
 ],
 "metadata": {
  "kernelspec": {
   "display_name": "Python 3",
   "language": "python",
   "name": "python3"
  },
  "language_info": {
   "codemirror_mode": {
    "name": "ipython",
    "version": 3
   },
   "file_extension": ".py",
   "mimetype": "text/x-python",
   "name": "python",
   "nbconvert_exporter": "python",
   "pygments_lexer": "ipython3",
   "version": "3.8.2"
  },
  "toc": {
   "base_numbering": 1,
   "nav_menu": {},
   "number_sections": true,
   "sideBar": true,
   "skip_h1_title": false,
   "title_cell": "Table of Contents",
   "title_sidebar": "Contents",
   "toc_cell": false,
   "toc_position": {},
   "toc_section_display": true,
   "toc_window_display": true
  }
 },
 "nbformat": 4,
 "nbformat_minor": 4
}
